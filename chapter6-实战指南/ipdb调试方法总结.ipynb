{
 "cells": [
  {
   "cell_type": "code",
   "execution_count": null,
   "metadata": {},
   "outputs": [],
   "source": [
    "try :\n",
    "    import ipdb\n",
    "except:\n",
    "    import pdb as ipdb\n",
    "ipdb.set_trace()    \n",
    "def sum1(x):\n",
    "    r = 0\n",
    "    for ii in x:\n",
    "        r = r + x\n",
    "        return r\n",
    "def mul1(x):\n",
    "    r = 1\n",
    "    for ii in x:\n",
    "        r = ii * r\n",
    "        return r\n",
    "   \n",
    "x = [1,2,3,4,5]\n",
    "r1 = sum1(x)\n",
    "r2 = mul1(x)\n",
    "\n",
    "    "
   ]
  },
  {
   "cell_type": "code",
   "execution_count": 2,
   "metadata": {},
   "outputs": [
    {
     "name": "stdout",
     "output_type": "stream",
     "text": [
      "Automatic pdb calling has been turned ON\n"
     ]
    }
   ],
   "source": [
    "%pdb"
   ]
  },
  {
   "cell_type": "markdown",
   "metadata": {},
   "source": [
    "###  ipdb使用方法记录\n",
    "1. 首先\n",
    "```import ipdb\n",
    "```\n",
    "2. 之后，在需要启用ipdb的地方输入：\n",
    "```\n",
    "python\n",
    "ipdb.set_trace()  \n",
    "```\n",
    "这样就会进入debug模式"
   ]
  },
  {
   "cell_type": "markdown",
   "metadata": {},
   "source": [
    "### 调试命令：\n",
    "\n",
    "- n或next 单步执行\n",
    "- s或step 进入要调用的函数函数内部\n",
    "- u 跳回上一层的调用\n",
    "- d 调到调用的下一层\n",
    "- variable名或！variable名： 查看该variable的值\n",
    "- variable名 = value ：修改该variable的值为value\n",
    "- b 10 : break的缩写，在第10行设置断点\n",
    "- c: continue的缩写，继续运行，直到遇到断点\n",
    "- return :求函数的返回值\n",
    "- q: 推出debug\n",
    "- j:跳过中间行某些代码\n",
    "- h command:可以查看调试命令的用法，如h j能查看jump命令的用法\n",
    "\n",
    "其他的特性：\n",
    "\n",
    "- 若查看变量时存在变量名与调试命令冲突，只需在变量名前加！即可继续查看变量\n",
    "- ```<Tab>```键可以自动补齐\n",
    "- for (name,p) in model.named_parameters(): print(name,p.data.std(),p.grad.data.std())\n",
    "  - 打印所有参数与梯度的标准差\n",
    "\n",
    "- for p in optimizer.param_groups: ```p['lr']```=opt.lr\n",
    "  - 修改学习率\n",
    "- model.save()保存模型\n",
    "\n",
    "\n",
    "    "
   ]
  },
  {
   "cell_type": "markdown",
   "metadata": {},
   "source": [
    "### pytorch与ipdb结合可以实现的功能：\n",
    "\n",
    "- 通过debug暂停程序，当程序进入debug模式之后，将不再执行GPU和CPU的运算，但是内存和显存以及相应的堆栈空间不会释放\n",
    "- 通过debug分析程序，查看每个层的输出，查看网络的参数。通过u,d,s,等命令，能够进入指定的代码，通过n可以单步运行从而看到每一次的运算结果。\n",
    "- 可以在运行程序时通过ipdb修改某些变量的值或者属性，这些修改能够立即生效。例如可以在训练开始不久根据损失函数调整学习率，不必重启程序。\n",
    "- 安全退出程序：先创建/tmp/debug文件使程序进入调试模式，然后输入quit推出debug同时退出程序，比使用crtl+C的方式更安全，因为这能保证数据加载的多进程程序也可以正确地推出，并和释放内存，显存等资源。\n",
    "- 如果在ipython中通过%run魔术方法运行程序，那么在程序异常退出时，可以使用%debug命令，直接进入debug模式。通过u,p调到报错的地方，查看对应的变量，找出原因后修改相应的代码。有时我们的模型训练了好几个小时，却在将要保存模型之前因为一个小小的拼写错误异常退出，此时，采用%debug方法进入调试模型，在调试模式中直接运行moeel.save直接保存模型即可。在ipython中，%pdb魔术方法能够在程序出现问题后不用手动输入%debug而自动进入debug模式，建议开启\n",
    "\n",
    "\n"
   ]
  },
  {
   "cell_type": "markdown",
   "metadata": {},
   "source": [
    "### 调试相关\n",
    "![陈云的讲解](IMG_3244.JPG)"
   ]
  },
  {
   "cell_type": "code",
   "execution_count": null,
   "metadata": {},
   "outputs": [],
   "source": []
  }
 ],
 "metadata": {
  "kernelspec": {
   "display_name": "Python [conda env:pytorchpy36]",
   "language": "python",
   "name": "conda-env-pytorchpy36-py"
  },
  "latex_envs": {
   "LaTeX_envs_menu_present": true,
   "autoclose": false,
   "autocomplete": true,
   "bibliofile": "biblio.bib",
   "cite_by": "apalike",
   "current_citInitial": 1,
   "eqLabelWithNumbers": true,
   "eqNumInitial": 1,
   "hotkeys": {
    "equation": "Ctrl-E",
    "itemize": "Ctrl-I"
   },
   "labels_anchors": false,
   "latex_user_defs": false,
   "report_style_numbering": false,
   "user_envs_cfg": false
  },
  "toc": {
   "base_numbering": 1,
   "nav_menu": {},
   "number_sections": true,
   "sideBar": true,
   "skip_h1_title": false,
   "title_cell": "Table of Contents",
   "title_sidebar": "Contents",
   "toc_cell": false,
   "toc_position": {},
   "toc_section_display": true,
   "toc_window_display": false
  }
 },
 "nbformat": 4,
 "nbformat_minor": 2
}
