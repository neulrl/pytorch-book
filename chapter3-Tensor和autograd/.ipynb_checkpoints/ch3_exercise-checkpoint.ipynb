{
 "cells": [
  {
   "cell_type": "code",
   "execution_count": null,
   "metadata": {},
   "outputs": [],
   "source": [
    "\n",
    "from __future__ import print_function\n",
    "import torch  as t\n",
    "t.__version__"
   ]
  },
  {
   "cell_type": "markdown",
   "metadata": {},
   "source": [
    "torch.unsqueeze可以看成是插空增加维度，2维矩阵总共有3个位置可以插入，0或-3就是插到最前面一个维度，变成1* 2 *3，1或-2就是插到中间变成2*1*3，2或-1就是插到最后面变成2*3*1\n",
    "resize_（）注意，不是resize().它可以修改tensor的大小。如果新尺寸超过了原尺寸，会自动分配新的内存空间，而如果新尺寸小于原尺寸，则之前的数据依旧会被保存"
   ]
  },
  {
   "cell_type": "code",
   "execution_count": null,
   "metadata": {},
   "outputs": [],
   "source": [
    "a=t.rand(2,3)\n"
   ]
  },
  {
   "cell_type": "markdown",
   "metadata": {},
   "source": [
    "t.index_select(a,1,)torch.index_select(input, dim, index, out=None) 实际上是将input按dim的方向选取index中对应的几行形成一个矩阵输出输出"
   ]
  },
  {
   "cell_type": "markdown",
   "metadata": {},
   "source": [
    "torch.gather(input, dim, index, out=None) \n",
    "在dim的维度上去index下标，在其他维度上按顺序取，维度是dim维度=index行数，其他维度不变\n",
    "eg，4* 4 矩阵x，index= t.LongTensor([[a,b,c,d]])\n",
    "torch.gather(x, 0, index, out=None) \n",
    "就是取（a,1）,(b,2),(c,3),(d,4)组成1* 4的矩阵"
   ]
  },
  {
   "cell_type": "markdown",
   "metadata": {},
   "source": [
    "各种数据类型之间的转换方法：type(new_type)\n",
    "\n",
    "快捷方法：tensor.cuda\n",
    "tensor.cpu\n",
    "默认的tensor是FloatTensor类型"
   ]
  },
  {
   "cell_type": "code",
   "execution_count": null,
   "metadata": {},
   "outputs": [],
   "source": [
    "a = t.Tensor(2,3)\n",
    "a"
   ]
  },
  {
   "cell_type": "code",
   "execution_count": null,
   "metadata": {},
   "outputs": [],
   "source": [
    "b = a.int() \n",
    "b"
   ]
  },
  {
   "cell_type": "code",
   "execution_count": null,
   "metadata": {},
   "outputs": [],
   "source": [
    "b =b + 1\n",
    "a"
   ]
  },
  {
   "cell_type": "code",
   "execution_count": null,
   "metadata": {},
   "outputs": [],
   "source": [
    "b#好像转换后赋值并不共享内存"
   ]
  },
  {
   "cell_type": "markdown",
   "metadata": {},
   "source": [
    "index_select\n",
    "masked_select\n",
    "non_zero\n",
    "gather\n",
    "的功能\n",
    "绝对值/平方根/除法/指数/求余/求幂..\n",
    "相关三角函数\n",
    "上取整/四舍五入/下取整/只保留整数部分\n",
    "超过min和max部分截断\n",
    "激活函数"
   ]
  },
  {
   "cell_type": "code",
   "execution_count": null,
   "metadata": {},
   "outputs": [],
   "source": [
    "x=t.rand(3,4)\n",
    "indice=t.LongTensor([0,2])\n",
    "print(x)\n",
    "t.index_select(x,0,indice)"
   ]
  },
  {
   "cell_type": "markdown",
   "metadata": {},
   "source": [
    "index_select按照索引取行或列元素"
   ]
  },
  {
   "cell_type": "markdown",
   "metadata": {},
   "source": [
    "masked_select:取mask矩阵元素为1的位置在输入矩阵的对应位置的元素\n"
   ]
  },
  {
   "cell_type": "markdown",
   "metadata": {},
   "source": [
    "non_zero()获取非零元素的下标\n",
    "torch.gather(input, dim, index, out=None) 在dim的维度上去index下标，在其他维度上按顺序取，维度是dim维度=index行数，其他维度不变\n"
   ]
  },
  {
   "cell_type": "code",
   "execution_count": null,
   "metadata": {},
   "outputs": [],
   "source": [
    "a=t.rand(2,4)"
   ]
  },
  {
   "cell_type": "code",
   "execution_count": null,
   "metadata": {},
   "outputs": [],
   "source": [
    "print(a)"
   ]
  },
  {
   "cell_type": "code",
   "execution_count": null,
   "metadata": {},
   "outputs": [],
   "source": [
    "a.sort()"
   ]
  },
  {
   "cell_type": "code",
   "execution_count": null,
   "metadata": {},
   "outputs": [],
   "source": [
    "t.topk??"
   ]
  },
  {
   "cell_type": "code",
   "execution_count": null,
   "metadata": {},
   "outputs": [],
   "source": [
    "t.t??\n",
    "#注意，矩阵的 转置会导致存储空间不连续，需要调用它的.contiguous方法将其转化为连续"
   ]
  },
  {
   "cell_type": "code",
   "execution_count": null,
   "metadata": {},
   "outputs": [],
   "source": [
    "t.dist??"
   ]
  },
  {
   "cell_type": "code",
   "execution_count": null,
   "metadata": {},
   "outputs": [],
   "source": [
    "t.diag??"
   ]
  },
  {
   "cell_type": "code",
   "execution_count": null,
   "metadata": {},
   "outputs": [],
   "source": [
    "a=t.rand(4,4)\n",
    "b=t.diag(a,-2)\n",
    "print(a,b)"
   ]
  },
  {
   "cell_type": "markdown",
   "metadata": {},
   "source": [
    "torch.diag()可以取从矩阵中取从任意元素开始d的对角线（如从（1，2），（2，1）），或者将向量添加到一个零矩阵的任意位置作为对角线"
   ]
  },
  {
   "cell_type": "code",
   "execution_count": null,
   "metadata": {},
   "outputs": [],
   "source": [
    "t.triu??"
   ]
  },
  {
   "cell_type": "markdown",
   "metadata": {},
   "source": [
    "tiru或tril,取出矩阵的上三角或下三角，可指定偏移量，类似diag"
   ]
  },
  {
   "cell_type": "code",
   "execution_count": null,
   "metadata": {},
   "outputs": [],
   "source": [
    "t.bmm??"
   ]
  },
  {
   "cell_type": "markdown",
   "metadata": {},
   "source": [
    "bmm是batch之间的乘法，对于不同batch,bmm会将每个batch中的对应的矩阵提取出来相称，再将所有相乘的结果组合起来成为一个batch.似乎相乘的矩阵维度不匹配的话要加transpose(1,2)等来进行转置"
   ]
  },
  {
   "cell_type": "code",
   "execution_count": null,
   "metadata": {},
   "outputs": [],
   "source": [
    "t.addmv?"
   ]
  },
  {
   "cell_type": "markdown",
   "metadata": {},
   "source": [
    "对矩阵mat和向量vec对进行相乘操作。向量tensor加到最终结果。如果mat 是一个 n×m维矩阵，vec 是一个 m维向量，那么out和mat的为n元向量。 可选参数_alpha_ 和 beta 分别是 mat∗vec和mat的比例因子，即， out=(beta∗tensor)+(alpha∗(mat@vec))(@表示矩阵乘法)\n",
    "\n",
    "对类型为_FloatTensor_或_DoubleTensor_的输入，alphaand beta必须为实数，否则两个参数须为整数。"
   ]
  },
  {
   "cell_type": "markdown",
   "metadata": {},
   "source": [
    "Tensor和Numpy数组之间具有很高的相似性，彼此之间的互操作也非常简单高效。需要注意的是，Numpy和Tensor共享内存。由于Numpy历史悠久，支持丰富的操作，所以当遇到Tensor不支持的操作时，可先转成Numpy数组，处理后再转回tensor，其转换开销很小。注意： 当numpy的数据类型和Tensor的类型不一样的时候，数据会被复制，不会共享内存。torch.FloatTensor是32-bit 浮点，即float32.torch.DoubleTensor才是float64.np.ones()默认结果是float64.需要这么设置：a = np.ones([2, 3],dtype=np.float32)"
   ]
  },
  {
   "cell_type": "markdown",
   "metadata": {},
   "source": [
    "广播法则(broadcast)是科学运算中经常使用的一个技巧，它在快速执行向量化的同时不会占用额外的内存/显存。 Numpy的广播法则定义如下：\n",
    "\n",
    "让所有输入数组都向其中shape最长的数组看齐，shape中不足的部分通过在前面加1补齐\n",
    "两个数组要么在某一个维度的长度一致，要么其中一个为1，否则不能计算\n",
    "当输入数组的某个维度的长度为1时，计算时沿此维度复制扩充成一样的形状\n",
    "PyTorch当前已经支持了自动广播法则，但是笔者还是建议读者通过以下两个函数的组合手动实现广播法则，这样更直观，更不易出错：\n",
    "\n",
    "unsqueeze或者view：为数据某一维的形状补1，实现法则1\n",
    "expand或者expand_as，重复数组，实现法则3；该操作不会复制数组，所以不会占用额外的空间。\n",
    "注意，repeat实现与expand相类似的功能，但是repeat会把相同数据复制多份，因此会占用额外的空间"
   ]
  },
  {
   "cell_type": "markdown",
   "metadata": {},
   "source": [
    "注意 tensor的很多操作是共享内存的，比如说view，切片，=，所以说采用这些操作创建的新tensor在进行修改时原tensor也会改变"
   ]
  },
  {
   "cell_type": "markdown",
   "metadata": {},
   "source": [
    "存储与加载tensor的方法：\n",
    "\n",
    "Tensor的保存和加载十分的简单，使用t.save和t.load即可完成相应的功能。在save/load时可指定使用的pickle模块，在load时还可将GPU tensor映射到CPU或其它GPU上。"
   ]
  },
  {
   "cell_type": "code",
   "execution_count": null,
   "metadata": {},
   "outputs": [],
   "source": [
    "if t.cuda.is_available():\n",
    "    a = a.cuda(1) # 把a转为GPU1上的tensor,\n",
    "    t.save(a,'a.pth')\n",
    "\n",
    "    # 加载为b, 存储于GPU1上(因为保存时tensor就在GPU1上)\n",
    "    b = t.load('a.pth')\n",
    "    # 加载为c, 存储于CPU\n",
    "    c = t.load('a.pth', map_location=lambda storage, loc: storage)\n",
    "    # 加载为d, 存储于GPU0上\n",
    "    d = t.load('a.pth', map_location={'cuda:1':'cuda:0'})"
   ]
  },
  {
   "cell_type": "markdown",
   "metadata": {},
   "source": [
    "此外还有以下几点需要注意：\n",
    "- 大多数`t.function`都有一个参数`out`，这时候产生的结果将保存在out指定tensor之中。\n",
    "- `t.set_num_threads`可以设置PyTorch进行CPU多线程并行计算时候所占用的线程数，这个可以用来限制PyTorch所占用的CPU数目。\n",
    "- `t.set_printoptions`可以用来设置打印tensor时的数值精度和格式。\n",
    "下面举例说明。"
   ]
  },
  {
   "cell_type": "markdown",
   "metadata": {},
   "source": [
    "步骤："
   ]
  },
  {
   "cell_type": "code",
   "execution_count": 24,
   "metadata": {},
   "outputs": [
    {
     "name": "stderr",
     "output_type": "stream",
     "text": [
      "[2018-04-03 09:47:11,299] matplotlib.backends:DEBUG: backend module://ipykernel.pylab.backend_inline version unknown\n"
     ]
    },
    {
     "data": {
      "text/plain": [
       "<matplotlib.collections.PathCollection at 0x7f30344aac18>"
      ]
     },
     "execution_count": 24,
     "metadata": {},
     "output_type": "execute_result"
    },
    {
     "data": {
      "image/png": "[encoded data removed]",
      "text/plain": [
       "<Figure size 432x288 with 1 Axes>"
      ]
     },
     "metadata": {},
     "output_type": "display_data"
    }
   ],
   "source": [
    "import torch as t\n",
    "%matplotlib inline\n",
    "from matplotlib import pyplot as plt\n",
    "from IPython import display\n",
    "import numpy as np\n",
    "# 设置随机数种子，保证在不同电脑上运行时下面的输出一致\n",
    "t.manual_seed(1000) \n",
    "\n",
    "def get_fake_data(batch_size=8):\n",
    "    ''' 产生随机数据：y=x*2+3，加上了一些噪声'''\n",
    "    x = t.rand(batch_size, 1) * 20\n",
    "    y = x * 2 + (1 + t.randn(batch_size, 1))*3\n",
    "    return x, y\n",
    "\n",
    "# 来看看产生的x-y分布\n",
    "x, y = get_fake_data()\n",
    "plt.scatter(x.squeeze().numpy(), y.squeeze().numpy())"
   ]
  },
  {
   "cell_type": "markdown",
   "metadata": {},
   "source": [
    "初始化参数，构建线性模型，计算损失，反向传播更新参数，\n",
    "\n",
    "画图表示输出的步骤：\n",
    "每1000组输出一下参数构成的图\n",
    "display.clear_output(wait=True)\n",
    "先获取一组x,根据参数输出y做一条曲线\n",
    "之后再获取一组真实的x,y（由于真实数据是按线性函数生成的，所以只要在调用一次函数生成一次就可以了）做成散点图\n",
    "将两组数据同时输出再图中\n"
   ]
  },
  {
   "cell_type": "code",
   "execution_count": 25,
   "metadata": {},
   "outputs": [],
   "source": [
    "w = t.rand(1,1)\n",
    "b = t.zeros(1,1)\n",
    "lr = 0.001\n"
   ]
  },
  {
   "cell_type": "code",
   "execution_count": 26,
   "metadata": {},
   "outputs": [
    {
     "data": {
      "image/png": "[encoded data removed]",
      "text/plain": [
       "<Figure size 432x288 with 1 Axes>"
      ]
     },
     "metadata": {},
     "output_type": "display_data"
    }
   ],
   "source": [
    "import logging\n",
    "logging.basicConfig(\n",
    "    level=logging.DEBUG,\n",
    "    format=\"[%(asctime)s] %(name)s:%(levelname)s: %(message)s\")\n",
    "\n",
    "for i in range(20000):\n",
    "    x,y=get_fake_data()\n",
    "    output = w*x+b\n",
    "    loss = t.sum(0.5*(output-y)**2)\n",
    "    do = output-y\n",
    "    dw = x.t().mm(do)\n",
    "    #dw = do.dot(x)\n",
    "    #logging.debug(dw.size())\n",
    "    db = t.sum(do)\n",
    "    w = w - lr*dw\n",
    "    b = b - lr*db\n",
    "    \n",
    "    if i%1000 == 0:\n",
    "        display.clear_output(wait=True)\n",
    "        x = t.arange(0,20).view(-1,1)\n",
    "        yhat = w * x + b\n",
    "        #y = w*x+b\n",
    "        plt.plot(x.numpy(),yhat.numpy())\n",
    "        \n",
    "        x2,y2 = get_fake_data()\n",
    "        plt.scatter(x2.numpy(),y2.numpy())\n",
    "        \n",
    "        plt.xlim(0, 20)\n",
    "        plt.ylim(0, 41)\n",
    "        \n",
    "        \n",
    "        plt.pause(0.5)\n",
    "        \n",
    "        plt.show()"
   ]
  },
  {
   "cell_type": "code",
   "execution_count": null,
   "metadata": {},
   "outputs": [],
   "source": [
    "t.range??"
   ]
  },
  {
   "cell_type": "code",
   "execution_count": 8,
   "metadata": {},
   "outputs": [
    {
     "name": "stdout",
     "output_type": "stream",
     "text": [
      "\n",
      " 1.9170\n",
      "[torch.FloatTensor of size 1x1]\n",
      " \n",
      " 3.0587\n",
      "[torch.FloatTensor of size 1x1]\n",
      "\n"
     ]
    }
   ],
   "source": [
    "print(w,b)"
   ]
  },
  {
   "cell_type": "code",
   "execution_count": null,
   "metadata": {},
   "outputs": [],
   "source": []
  }
 ],
 "metadata": {
  "kernelspec": {
   "display_name": "Python [conda env:pytorchpy36]",
   "language": "python",
   "name": "conda-env-pytorchpy36-py"
  },
  "language_info": {
   "codemirror_mode": {
    "name": "ipython",
    "version": 3
   },
   "file_extension": ".py",
   "mimetype": "text/x-python",
   "name": "python",
   "nbconvert_exporter": "python",
   "pygments_lexer": "ipython3",
   "version": "3.6.4"
  },
  "toc": {
   "base_numbering": 1,
   "nav_menu": {},
   "number_sections": true,
   "sideBar": true,
   "skip_h1_title": false,
   "title_cell": "Table of Contents",
   "title_sidebar": "Contents",
   "toc_cell": false,
   "toc_position": {},
   "toc_section_display": true,
   "toc_window_display": false
  }
 },
 "nbformat": 4,
 "nbformat_minor": 2
}
