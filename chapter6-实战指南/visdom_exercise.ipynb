{
 "cells": [
  {
   "cell_type": "code",
   "execution_count": 6,
   "metadata": {},
   "outputs": [],
   "source": [
    "import visdom\n",
    "from torchnet import meter"
   ]
  },
  {
   "cell_type": "code",
   "execution_count": 7,
   "metadata": {},
   "outputs": [],
   "source": [
    "loss_meter = meter.AverageValueMeter()"
   ]
  },
  {
   "cell_type": "code",
   "execution_count": 9,
   "metadata": {},
   "outputs": [
    {
     "name": "stdout",
     "output_type": "stream",
     "text": [
      "epoch: 0  batch_num:1 loss:998666.000000\n",
      "epoch: 0  batch_num:2 loss:1885316.000000\n",
      "epoch: 0  batch_num:3 loss:7171966.000000\n",
      "epoch: 0  batch_num:4 loss:20858616.000000\n",
      "epoch: 0  batch_num:5 loss:46945266.000000\n",
      "epoch: 1  batch_num:6 loss:333832166.000000\n",
      "epoch: 1  batch_num:7 loss:334718816.000000\n",
      "epoch: 1  batch_num:8 loss:340005466.000000\n",
      "epoch: 1  batch_num:9 loss:353692116.000000\n",
      "epoch: 1  batch_num:10 loss:379778766.000000\n",
      "epoch: 2  batch_num:11 loss:666665666.000000\n",
      "epoch: 2  batch_num:12 loss:667552316.000000\n",
      "epoch: 2  batch_num:13 loss:672838966.000000\n",
      "epoch: 2  batch_num:14 loss:686525616.000000\n",
      "epoch: 2  batch_num:15 loss:712612266.000000\n",
      "epoch: 3  batch_num:16 loss:999499166.000000\n",
      "epoch: 3  batch_num:17 loss:1000385816.000000\n",
      "epoch: 3  batch_num:18 loss:1005672466.000000\n",
      "epoch: 3  batch_num:19 loss:1019359116.000000\n",
      "epoch: 3  batch_num:20 loss:1045445766.000000\n",
      "epoch: 4  batch_num:21 loss:1332332666.000000\n",
      "epoch: 4  batch_num:22 loss:1333219316.000000\n",
      "epoch: 4  batch_num:23 loss:1338505966.000000\n",
      "epoch: 4  batch_num:24 loss:1352192616.000000\n",
      "epoch: 4  batch_num:25 loss:1378279266.000000\n",
      "epoch: 5  batch_num:26 loss:1665166166.000000\n",
      "epoch: 5  batch_num:27 loss:1666052816.000000\n",
      "epoch: 5  batch_num:28 loss:1671339466.000000\n",
      "epoch: 5  batch_num:29 loss:1685026116.000000\n",
      "epoch: 5  batch_num:30 loss:1711112766.000000\n",
      "epoch: 6  batch_num:31 loss:1997999666.000000\n",
      "epoch: 6  batch_num:32 loss:1998886316.000000\n",
      "epoch: 6  batch_num:33 loss:2004172966.000000\n",
      "epoch: 6  batch_num:34 loss:2017859616.000000\n",
      "epoch: 6  batch_num:35 loss:2043946266.000000\n",
      "epoch: 7  batch_num:36 loss:2330833166.000000\n",
      "epoch: 7  batch_num:37 loss:2331719816.000000\n",
      "epoch: 7  batch_num:38 loss:2337006466.000000\n",
      "epoch: 7  batch_num:39 loss:2350693116.000000\n",
      "epoch: 7  batch_num:40 loss:2376779766.000000\n",
      "epoch: 8  batch_num:41 loss:2663666666.000000\n",
      "epoch: 8  batch_num:42 loss:2664553316.000000\n",
      "epoch: 8  batch_num:43 loss:2669839966.000000\n",
      "epoch: 8  batch_num:44 loss:2683526616.000000\n",
      "epoch: 8  batch_num:45 loss:2709613266.000000\n",
      "epoch: 9  batch_num:46 loss:2996500166.000000\n",
      "epoch: 9  batch_num:47 loss:2997386816.000000\n",
      "epoch: 9  batch_num:48 loss:3002673466.000000\n",
      "epoch: 9  batch_num:49 loss:3016360116.000000\n",
      "epoch: 9  batch_num:50 loss:3042446766.000000\n"
     ]
    }
   ],
   "source": [
    "from utils.visualize import Visualizer\n",
    "batch_num = 0\n",
    "freq = 20\n",
    "for epoch in range(10):\n",
    "    vis = Visualizer('default')\n",
    "    running_loss = 0.0\n",
    "    loss_meter.reset()\n",
    "    for ii in range(1000):\n",
    "        y += ii**2\n",
    "        loss_meter.add(y)\n",
    "        if ii%200 ==19:\n",
    "            \n",
    "            vis.plot('loss', loss_meter.value()[0])\n",
    "            \n",
    "            batch_num= batch_num+1\n",
    "            print(\"epoch: %d  batch_num:%d loss:%f\"% (epoch,batch_num,loss_meter.value()[0]))\n",
    "        \n",
    "    "
   ]
  },
  {
   "cell_type": "code",
   "execution_count": null,
   "metadata": {},
   "outputs": [],
   "source": []
  }
 ],
 "metadata": {
  "kernelspec": {
   "display_name": "Python [conda env:pytorchpy36]",
   "language": "python",
   "name": "conda-env-pytorchpy36-py"
  },
  "language_info": {
   "codemirror_mode": {
    "name": "ipython",
    "version": 3
   },
   "file_extension": ".py",
   "mimetype": "text/x-python",
   "name": "python",
   "nbconvert_exporter": "python",
   "pygments_lexer": "ipython3",
   "version": "3.6.4"
  },
  "latex_envs": {
   "LaTeX_envs_menu_present": true,
   "autoclose": false,
   "autocomplete": true,
   "bibliofile": "biblio.bib",
   "cite_by": "apalike",
   "current_citInitial": 1,
   "eqLabelWithNumbers": true,
   "eqNumInitial": 1,
   "hotkeys": {
    "equation": "Ctrl-E",
    "itemize": "Ctrl-I"
   },
   "labels_anchors": false,
   "latex_user_defs": false,
   "report_style_numbering": false,
   "user_envs_cfg": false
  },
  "toc": {
   "base_numbering": 1,
   "nav_menu": {},
   "number_sections": true,
   "sideBar": true,
   "skip_h1_title": false,
   "title_cell": "Table of Contents",
   "title_sidebar": "Contents",
   "toc_cell": false,
   "toc_position": {},
   "toc_section_display": true,
   "toc_window_display": false
  }
 },
 "nbformat": 4,
 "nbformat_minor": 2
}
