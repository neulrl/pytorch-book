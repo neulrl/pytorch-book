{
 "cells": [
  {
   "cell_type": "markdown",
   "metadata": {},
   "source": [
    "举例说明tensorflow所采用的静态图与动态图的区别"
   ]
  },
  {
   "cell_type": "markdown",
   "metadata": {},
   "source": [
    "个人印象：静态图需要先构建计算图，把变量如何计算的方法确定下来，之后在运行图，在运行图的过程中传入参变量，进行计算\n",
    "而动态图的方法与一般程序一样，先定义变量，初始化变量，再计算\n",
    "动态图相对静态图的优点：ｐytorch一般报错的地方就是你写错代码的地方，而tensorflow这种静态图框架是先定义计算方式再执行，所以一般都会在执行（sess.run()）的时候报错"
   ]
  },
  {
   "cell_type": "markdown",
   "metadata": {},
   "source": []
  },
  {
   "cell_type": "code",
   "execution_count": null,
   "metadata": {},
   "outputs": [],
   "source": []
  }
 ],
 "metadata": {
  "kernelspec": {
   "display_name": "Python [conda env:pytorchpy36]",
   "language": "python",
   "name": "conda-env-pytorchpy36-py"
  },
  "language_info": {
   "codemirror_mode": {
    "name": "ipython",
    "version": 3
   },
   "file_extension": ".py",
   "mimetype": "text/x-python",
   "name": "python",
   "nbconvert_exporter": "python",
   "pygments_lexer": "ipython3",
   "version": "3.6.4"
  }
 },
 "nbformat": 4,
 "nbformat_minor": 2
}
