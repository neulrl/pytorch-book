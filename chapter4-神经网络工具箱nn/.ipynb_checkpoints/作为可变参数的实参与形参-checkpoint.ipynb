{
 "cells": [
  {
   "cell_type": "markdown",
   "metadata": {},
   "source": [
    "# 起因：主要是看到pytorch入门里有一段代码："
   ]
  },
  {
   "cell_type": "code",
   "execution_count": 8,
   "metadata": {},
   "outputs": [],
   "source": [
    " def _make_layer(self,  inchannel, outchannel, block_num, stride=1):\n",
    "        '''\n",
    "        构建layer,包含多个residual block\n",
    "        '''\n",
    "        shortcut = nn.Sequential(\n",
    "                nn.Conv2d(inchannel,outchannel,1,stride, bias=False),\n",
    "                nn.BatchNorm2d(outchannel))\n",
    "        \n",
    "        layers = []\n",
    "        layers.append(ResidualBlock(inchannel, outchannel, stride, shortcut))\n",
    "        \n",
    "        for i in range(1, block_num):\n",
    "            layers.append(ResidualBlock(outchannel, outchannel))\n",
    "        return nn.Sequential(*layers)"
   ]
  },
  {
   "cell_type": "markdown",
   "metadata": {},
   "source": [
    "而我在这本书之前的入门里，考到有这么一段文字**可见，list中的子module并不能被主module所识别，而ModuleList中的子module能够被主module所识别。这意味着如果用list保存子module，将无法调整其参数，因其未加入到主module的参数中。**\n",
    "\n",
    "这就让我很困惑，为什么这里就可以用list，仅仅是因为这里加了一个‘*’ 吗？"
   ]
  },
  {
   "cell_type": "markdown",
   "metadata": {},
   "source": [
    "# 问题：实参与形参前的`*` 各是什么意思"
   ]
  },
  {
   "cell_type": "markdown",
   "metadata": {},
   "source": [
    "PYTHON从入门到实践，p130，讲解形参部分加星号的作用\n",
    "- 传递任意数量的参数。形参名`*toppings`的星号让python创建了一个名为toppings的空元组，并将收到的所有值都封装到这个元组中。\n",
    "- 如果要让函数接受不同类型的实参，必须在函数定义中将接纳不定数量参数的形参放在最后\n",
    "- （有时候，需要接受任意数量的实参，但与先不知道传递给参数的会是什么样的信息。在这种情况下，可将函数编写成能够接受任意数量的键值对，利用）形参`**user_info`让python创建一个名为user_info的空字典，并将收到的所有名称-值对都封装到了这个字典中。注意，这种方法定义的函数只能接受不限量的关键字实参，并把关键字实参以键值对的形式封装到字典里。\n",
    "- 在函数定义时，第一个带有默认值的参数之后的所有参数都必须有默认值，否则，运行时报错"
   ]
  },
  {
   "cell_type": "markdown",
   "metadata": {},
   "source": [
    "一些例子："
   ]
  },
  {
   "cell_type": "code",
   "execution_count": 9,
   "metadata": {},
   "outputs": [
    {
     "name": "stdout",
     "output_type": "stream",
     "text": [
      "13.5\n",
      "13.5\n"
     ]
    }
   ],
   "source": [
    "def accept(*s):\n",
    "    print(sum(s))\n",
    "list = (0, 1, 2, 3, 7.5)\n",
    "print(sum(list))\n",
    "accept(*list)"
   ]
  },
  {
   "cell_type": "code",
   "execution_count": 10,
   "metadata": {},
   "outputs": [
    {
     "name": "stdout",
     "output_type": "stream",
     "text": [
      "{'a': 0, 'b': 1, 'c': 2}\n",
      "{'a': 0, 'b': 1, 'c': 2}\n"
     ]
    }
   ],
   "source": [
    "def accept(**s):  \n",
    "    print(s)  \n",
    "list = {'a': 0, 'b': 1, 'c': 2}  \n",
    "print(list)  \n",
    "accept(**list)  "
   ]
  },
  {
   "cell_type": "code",
   "execution_count": 11,
   "metadata": {},
   "outputs": [
    {
     "name": "stdout",
     "output_type": "stream",
     "text": [
      "{'a': 0, 'b': 1, 'c': 2}\n",
      "('a', 'b', 'c')\n"
     ]
    }
   ],
   "source": [
    "def accept(*s):  \n",
    "    print(s)  \n",
    "list = {'a': 0, 'b': 1, 'c': 2}  \n",
    "print(list)  \n",
    "accept(*list)  "
   ]
  },
  {
   "cell_type": "code",
   "execution_count": 12,
   "metadata": {},
   "outputs": [
    {
     "name": "stdout",
     "output_type": "stream",
     "text": [
      "13.5\n"
     ]
    },
    {
     "ename": "TypeError",
     "evalue": "accept() takes 0 positional arguments but 5 were given",
     "output_type": "error",
     "traceback": [
      "\u001b[0;31m---------------------------------------------------------------------------\u001b[0m",
      "\u001b[0;31mTypeError\u001b[0m                                 Traceback (most recent call last)",
      "\u001b[0;32m<ipython-input-12-d525201b8dd7>\u001b[0m in \u001b[0;36m<module>\u001b[0;34m()\u001b[0m\n\u001b[1;32m      3\u001b[0m \u001b[0mlist\u001b[0m \u001b[0;34m=\u001b[0m \u001b[0;34m(\u001b[0m\u001b[0;36m0\u001b[0m\u001b[0;34m,\u001b[0m \u001b[0;36m1\u001b[0m\u001b[0;34m,\u001b[0m \u001b[0;36m2\u001b[0m\u001b[0;34m,\u001b[0m \u001b[0;36m3\u001b[0m\u001b[0;34m,\u001b[0m \u001b[0;36m7.5\u001b[0m\u001b[0;34m)\u001b[0m\u001b[0;34m\u001b[0m\u001b[0m\n\u001b[1;32m      4\u001b[0m \u001b[0mprint\u001b[0m\u001b[0;34m(\u001b[0m\u001b[0msum\u001b[0m\u001b[0;34m(\u001b[0m\u001b[0mlist\u001b[0m\u001b[0;34m)\u001b[0m\u001b[0;34m)\u001b[0m\u001b[0;34m\u001b[0m\u001b[0m\n\u001b[0;32m----> 5\u001b[0;31m \u001b[0maccept\u001b[0m\u001b[0;34m(\u001b[0m\u001b[0;34m*\u001b[0m\u001b[0mlist\u001b[0m\u001b[0;34m)\u001b[0m\u001b[0;34m\u001b[0m\u001b[0m\n\u001b[0m",
      "\u001b[0;31mTypeError\u001b[0m: accept() takes 0 positional arguments but 5 were given"
     ]
    }
   ],
   "source": [
    "def accept(**s):\n",
    "    print(sum(s))\n",
    "list = (0, 1, 2, 3, 7.5)\n",
    "print(sum(list))\n",
    "accept(*list)"
   ]
  },
  {
   "cell_type": "markdown",
   "metadata": {},
   "source": [
    "所以，作为传递的实参的星号:\n",
    "\n",
    "- `*`操作符的作用是将元组,列表等“解包”，解为位置实参，则accept(`*`list)等价于accept（0, 1, 2, 3, 7.5）（实际上列表类型也可以直接传递到函数中）\n",
    "- 而需要传递字典时，需要用两个星号，即`**`来解包，解为若干个关键字形参"
   ]
  },
  {
   "cell_type": "markdown",
   "metadata": {},
   "source": [
    "# 来总结一下：\n",
    "\n",
    "1、函数声明的参数列表中加单星号，即f(`*`x)则表示x为元组，所有对x的操作都应将x视为元组类型进行。所有传入f（`*`x）的变量都将作为元组x的元素之一。\n",
    "\n",
    "2、双星号同上，区别是x视为字典。\n",
    "\n",
    "3、在变量前加单星号表示将元组（列表、集合）拆分为单个元素。\n",
    "\n",
    "4、双星号同上，区别是目标为字典，字典前加单星号的话可以得到“键”。"
   ]
  },
  {
   "cell_type": "markdown",
   "metadata": {},
   "source": [
    "# 回到本文的问题：\n",
    "\n",
    "为什么这里可以用list.我们先看下nn.Sequential类的定义方式：`class torch.nn.Sequential(* args)`也就是说，传入的Modules 类会以他们传入的顺序被添加到容器中（注意nn.Sequential是类，与python函数不同，所以不是把所有module封装为一个元组。根据文档<http://pytorch.org/docs/master/nn.html> 以及源码<http://pytorch.org/docs/master/_modules/torch/nn/modules/container.html#Sequential>可以看出,实际的操作还是比较复杂的，以我现在的知识看不懂，但我现在可以这么理解）\n",
    "\n",
    "之后再看文中的使用方式：显示构造类layers，再通过`*layers`传入nn.Sequential，因此`*`实际上在传入的时候就已经把layers中的各module拆开作为位置参数传入nn.Sequential,其效果与nn.Sequential（）中间加一大堆nn.module的效果是一样的。"
   ]
  },
  {
   "cell_type": "code",
   "execution_count": 13,
   "metadata": {},
   "outputs": [],
   "source": [
    " def _make_layer(self,  inchannel, outchannel, block_num, stride=1):\n",
    "        '''\n",
    "        构建layer,包含多个residual block\n",
    "        '''\n",
    "        shortcut = nn.Sequential(\n",
    "                nn.Conv2d(inchannel,outchannel,1,stride, bias=False),\n",
    "                nn.BatchNorm2d(outchannel))\n",
    "        \n",
    "        layers = []\n",
    "        layers.append(ResidualBlock(inchannel, outchannel, stride, shortcut))\n",
    "        \n",
    "        for i in range(1, block_num):\n",
    "            layers.append(ResidualBlock(outchannel, outchannel))\n",
    "        return nn.Sequential(*layers)"
   ]
  },
  {
   "cell_type": "markdown",
   "metadata": {},
   "source": [
    "# 参考资料\n",
    "\n",
    "1. [python中带星号/一个星号/两个星号的参数：https://blog.csdn.net/qq_18192241/article/details/50486025](https://blog.csdn.net/qq_18192241/article/details/50486025, \"python中带星号/一个星号/两个星号的参数\")\n",
    "2. [python中带星号/一个星号/两个星号的参数，知乎回答](https://www.zhihu.com/question/20801578/answer/16226750, \"python中带星号/一个星号/两个星号的参数\")\n",
    "3. [What does the Star operator mean? duplicate](https://stackoverflow.com/questions/2921847/what-does-the-star-operator-mean, \"What does the Star operator mean? [duplicate]\")\n",
    "4. [Python 参数知识（变量前加星号的意义）](https://blog.csdn.net/qinyilang/article/details/5484415, \"Python 参数知识（变量前加星号的意义）\")"
   ]
  },
  {
   "cell_type": "markdown",
   "metadata": {},
   "source": []
  },
  {
   "cell_type": "markdown",
   "metadata": {},
   "source": []
  },
  {
   "cell_type": "code",
   "execution_count": null,
   "metadata": {},
   "outputs": [],
   "source": []
  }
 ],
 "metadata": {
  "kernelspec": {
   "display_name": "Python [conda env:pytorchpy36]",
   "language": "python",
   "name": "conda-env-pytorchpy36-py"
  },
  "language_info": {
   "codemirror_mode": {
    "name": "ipython",
    "version": 3
   },
   "file_extension": ".py",
   "mimetype": "text/x-python",
   "name": "python",
   "nbconvert_exporter": "python",
   "pygments_lexer": "ipython3",
   "version": "3.6.4"
  },
  "toc": {
   "base_numbering": 1,
   "nav_menu": {},
   "number_sections": true,
   "sideBar": true,
   "skip_h1_title": false,
   "title_cell": "Table of Contents",
   "title_sidebar": "Contents",
   "toc_cell": false,
   "toc_position": {},
   "toc_section_display": true,
   "toc_window_display": false
  }
 },
 "nbformat": 4,
 "nbformat_minor": 2
}
